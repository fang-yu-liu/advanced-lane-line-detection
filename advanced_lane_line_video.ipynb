{
 "cells": [
  {
   "cell_type": "code",
   "execution_count": 1,
   "metadata": {},
   "outputs": [
    {
     "name": "stdout",
     "output_type": "stream",
     "text": [
      "Done Importing\n"
     ]
    }
   ],
   "source": [
    "import pickle\n",
    "import cv2\n",
    "import glob\n",
    "import os\n",
    "\n",
    "print('Done Importing')"
   ]
  },
  {
   "cell_type": "code",
   "execution_count": 2,
   "metadata": {},
   "outputs": [
    {
     "name": "stdout",
     "output_type": "stream",
     "text": [
      "Camera matrix: [[  1.15396093e+03   0.00000000e+00   6.69705357e+02]\n",
      " [  0.00000000e+00   1.14802496e+03   3.85656234e+02]\n",
      " [  0.00000000e+00   0.00000000e+00   1.00000000e+00]]\n",
      "Distortion coefficients:  [[ -2.41017956e-01  -5.30721173e-02  -1.15810355e-03  -1.28318856e-04\n",
      "    2.67125290e-02]]\n"
     ]
    }
   ],
   "source": [
    "image_path = glob.glob('./test_images/test1.jpg')[0]\n",
    "image_filename = os.path.basename(image_path)\n",
    "image = cv2.imread(image_path)\n",
    "\n",
    "camera_calibration_file = './camera_calibration.p'\n",
    "with open(camera_calibration_file, mode='rb') as f:\n",
    "    cali_data = pickle.load(f)\n",
    "mtx, dist = cali_data['mtx'], cali_data['dist']\n",
    "print('Camera matrix:', mtx)\n",
    "print('Distortion coefficients: ', dist)"
   ]
  },
  {
   "cell_type": "code",
   "execution_count": 3,
   "metadata": {},
   "outputs": [
    {
     "name": "stdout",
     "output_type": "stream",
     "text": [
      "[MoviePy] >>>> Building video output_videos/project_video_output.mp4\n",
      "[MoviePy] Writing video output_videos/project_video_output.mp4\n"
     ]
    },
    {
     "name": "stderr",
     "output_type": "stream",
     "text": [
      " 99%|█████████▉| 125/126 [00:17<00:00,  7.02it/s]\n"
     ]
    },
    {
     "name": "stdout",
     "output_type": "stream",
     "text": [
      "[MoviePy] Done.\n",
      "[MoviePy] >>>> Video ready: output_videos/project_video_output.mp4 \n",
      "\n",
      "CPU times: user 23.9 s, sys: 6.14 s, total: 30 s\n",
      "Wall time: 18.7 s\n"
     ]
    }
   ],
   "source": [
    "%matplotlib inline\n",
    "\n",
    "# Import everything needed to edit/save/watch video clips\n",
    "from moviepy.editor import VideoFileClip\n",
    "from IPython.display import HTML\n",
    "from Video import Video\n",
    "\n",
    "video = Video(cali_data)\n",
    "\n",
    "proj_output = 'output_videos/project_video_output.mp4'\n",
    "## To speed up the testing process you may want to try your pipeline on a shorter subclip of the video\n",
    "## To do so add .subclip(start_second,end_second) to the end of the line below\n",
    "## Where start_second and end_second are integer values representing the start and end of the subclip\n",
    "## You may also uncomment the following line for a subclip of the first 5 seconds\n",
    "##clip1 = VideoFileClip(\"test_videos/solidWhiteRight.mp4\").subclip(0,5)\n",
    "clip1 = VideoFileClip(\"project_video.mp4\").subclip(0,5)\n",
    "proj_clip = clip1.fl_image(video.process) #NOTE: this function expects color images!!\n",
    "%time proj_clip.write_videofile(proj_output, audio=False)"
   ]
  },
  {
   "cell_type": "code",
   "execution_count": null,
   "metadata": {
    "collapsed": true
   },
   "outputs": [],
   "source": []
  }
 ],
 "metadata": {
  "kernelspec": {
   "display_name": "Python 3",
   "language": "python",
   "name": "python3"
  },
  "language_info": {
   "codemirror_mode": {
    "name": "ipython",
    "version": 3
   },
   "file_extension": ".py",
   "mimetype": "text/x-python",
   "name": "python",
   "nbconvert_exporter": "python",
   "pygments_lexer": "ipython3",
   "version": "3.5.2"
  },
  "widgets": {
   "state": {},
   "version": "1.1.2"
  }
 },
 "nbformat": 4,
 "nbformat_minor": 2
}
